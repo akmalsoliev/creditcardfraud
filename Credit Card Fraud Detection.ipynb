{
 "cells": [
  {
   "cell_type": "code",
   "execution_count": 1,
   "metadata": {},
   "outputs": [],
   "source": [
    "import numpy as np\n",
    "import pandas as pd\n",
    "import matplotlib.pyplot as plt"
   ]
  },
  {
   "cell_type": "code",
   "execution_count": 2,
   "metadata": {},
   "outputs": [],
   "source": [
    "credit_card_df = pd.read_csv('creditcard.csv')"
   ]
  },
  {
   "cell_type": "code",
   "execution_count": 3,
   "metadata": {},
   "outputs": [
    {
     "data": {
      "text/html": [
       "<div>\n",
       "<style scoped>\n",
       "    .dataframe tbody tr th:only-of-type {\n",
       "        vertical-align: middle;\n",
       "    }\n",
       "\n",
       "    .dataframe tbody tr th {\n",
       "        vertical-align: top;\n",
       "    }\n",
       "\n",
       "    .dataframe thead th {\n",
       "        text-align: right;\n",
       "    }\n",
       "</style>\n",
       "<table border=\"1\" class=\"dataframe\">\n",
       "  <thead>\n",
       "    <tr style=\"text-align: right;\">\n",
       "      <th></th>\n",
       "      <th>Time</th>\n",
       "      <th>V1</th>\n",
       "      <th>V2</th>\n",
       "      <th>V3</th>\n",
       "      <th>V4</th>\n",
       "      <th>V5</th>\n",
       "      <th>V6</th>\n",
       "      <th>V7</th>\n",
       "      <th>V8</th>\n",
       "      <th>V9</th>\n",
       "      <th>...</th>\n",
       "      <th>V21</th>\n",
       "      <th>V22</th>\n",
       "      <th>V23</th>\n",
       "      <th>V24</th>\n",
       "      <th>V25</th>\n",
       "      <th>V26</th>\n",
       "      <th>V27</th>\n",
       "      <th>V28</th>\n",
       "      <th>Amount</th>\n",
       "      <th>Class</th>\n",
       "    </tr>\n",
       "  </thead>\n",
       "  <tbody>\n",
       "    <tr>\n",
       "      <th>0</th>\n",
       "      <td>0.0</td>\n",
       "      <td>-1.359807</td>\n",
       "      <td>-0.072781</td>\n",
       "      <td>2.536347</td>\n",
       "      <td>1.378155</td>\n",
       "      <td>-0.338321</td>\n",
       "      <td>0.462388</td>\n",
       "      <td>0.239599</td>\n",
       "      <td>0.098698</td>\n",
       "      <td>0.363787</td>\n",
       "      <td>...</td>\n",
       "      <td>-0.018307</td>\n",
       "      <td>0.277838</td>\n",
       "      <td>-0.110474</td>\n",
       "      <td>0.066928</td>\n",
       "      <td>0.128539</td>\n",
       "      <td>-0.189115</td>\n",
       "      <td>0.133558</td>\n",
       "      <td>-0.021053</td>\n",
       "      <td>149.62</td>\n",
       "      <td>0</td>\n",
       "    </tr>\n",
       "    <tr>\n",
       "      <th>1</th>\n",
       "      <td>0.0</td>\n",
       "      <td>1.191857</td>\n",
       "      <td>0.266151</td>\n",
       "      <td>0.166480</td>\n",
       "      <td>0.448154</td>\n",
       "      <td>0.060018</td>\n",
       "      <td>-0.082361</td>\n",
       "      <td>-0.078803</td>\n",
       "      <td>0.085102</td>\n",
       "      <td>-0.255425</td>\n",
       "      <td>...</td>\n",
       "      <td>-0.225775</td>\n",
       "      <td>-0.638672</td>\n",
       "      <td>0.101288</td>\n",
       "      <td>-0.339846</td>\n",
       "      <td>0.167170</td>\n",
       "      <td>0.125895</td>\n",
       "      <td>-0.008983</td>\n",
       "      <td>0.014724</td>\n",
       "      <td>2.69</td>\n",
       "      <td>0</td>\n",
       "    </tr>\n",
       "    <tr>\n",
       "      <th>2</th>\n",
       "      <td>1.0</td>\n",
       "      <td>-1.358354</td>\n",
       "      <td>-1.340163</td>\n",
       "      <td>1.773209</td>\n",
       "      <td>0.379780</td>\n",
       "      <td>-0.503198</td>\n",
       "      <td>1.800499</td>\n",
       "      <td>0.791461</td>\n",
       "      <td>0.247676</td>\n",
       "      <td>-1.514654</td>\n",
       "      <td>...</td>\n",
       "      <td>0.247998</td>\n",
       "      <td>0.771679</td>\n",
       "      <td>0.909412</td>\n",
       "      <td>-0.689281</td>\n",
       "      <td>-0.327642</td>\n",
       "      <td>-0.139097</td>\n",
       "      <td>-0.055353</td>\n",
       "      <td>-0.059752</td>\n",
       "      <td>378.66</td>\n",
       "      <td>0</td>\n",
       "    </tr>\n",
       "    <tr>\n",
       "      <th>3</th>\n",
       "      <td>1.0</td>\n",
       "      <td>-0.966272</td>\n",
       "      <td>-0.185226</td>\n",
       "      <td>1.792993</td>\n",
       "      <td>-0.863291</td>\n",
       "      <td>-0.010309</td>\n",
       "      <td>1.247203</td>\n",
       "      <td>0.237609</td>\n",
       "      <td>0.377436</td>\n",
       "      <td>-1.387024</td>\n",
       "      <td>...</td>\n",
       "      <td>-0.108300</td>\n",
       "      <td>0.005274</td>\n",
       "      <td>-0.190321</td>\n",
       "      <td>-1.175575</td>\n",
       "      <td>0.647376</td>\n",
       "      <td>-0.221929</td>\n",
       "      <td>0.062723</td>\n",
       "      <td>0.061458</td>\n",
       "      <td>123.50</td>\n",
       "      <td>0</td>\n",
       "    </tr>\n",
       "    <tr>\n",
       "      <th>4</th>\n",
       "      <td>2.0</td>\n",
       "      <td>-1.158233</td>\n",
       "      <td>0.877737</td>\n",
       "      <td>1.548718</td>\n",
       "      <td>0.403034</td>\n",
       "      <td>-0.407193</td>\n",
       "      <td>0.095921</td>\n",
       "      <td>0.592941</td>\n",
       "      <td>-0.270533</td>\n",
       "      <td>0.817739</td>\n",
       "      <td>...</td>\n",
       "      <td>-0.009431</td>\n",
       "      <td>0.798278</td>\n",
       "      <td>-0.137458</td>\n",
       "      <td>0.141267</td>\n",
       "      <td>-0.206010</td>\n",
       "      <td>0.502292</td>\n",
       "      <td>0.219422</td>\n",
       "      <td>0.215153</td>\n",
       "      <td>69.99</td>\n",
       "      <td>0</td>\n",
       "    </tr>\n",
       "  </tbody>\n",
       "</table>\n",
       "<p>5 rows × 31 columns</p>\n",
       "</div>"
      ],
      "text/plain": [
       "   Time        V1        V2        V3        V4        V5        V6        V7  \\\n",
       "0   0.0 -1.359807 -0.072781  2.536347  1.378155 -0.338321  0.462388  0.239599   \n",
       "1   0.0  1.191857  0.266151  0.166480  0.448154  0.060018 -0.082361 -0.078803   \n",
       "2   1.0 -1.358354 -1.340163  1.773209  0.379780 -0.503198  1.800499  0.791461   \n",
       "3   1.0 -0.966272 -0.185226  1.792993 -0.863291 -0.010309  1.247203  0.237609   \n",
       "4   2.0 -1.158233  0.877737  1.548718  0.403034 -0.407193  0.095921  0.592941   \n",
       "\n",
       "         V8        V9  ...       V21       V22       V23       V24       V25  \\\n",
       "0  0.098698  0.363787  ... -0.018307  0.277838 -0.110474  0.066928  0.128539   \n",
       "1  0.085102 -0.255425  ... -0.225775 -0.638672  0.101288 -0.339846  0.167170   \n",
       "2  0.247676 -1.514654  ...  0.247998  0.771679  0.909412 -0.689281 -0.327642   \n",
       "3  0.377436 -1.387024  ... -0.108300  0.005274 -0.190321 -1.175575  0.647376   \n",
       "4 -0.270533  0.817739  ... -0.009431  0.798278 -0.137458  0.141267 -0.206010   \n",
       "\n",
       "        V26       V27       V28  Amount  Class  \n",
       "0 -0.189115  0.133558 -0.021053  149.62      0  \n",
       "1  0.125895 -0.008983  0.014724    2.69      0  \n",
       "2 -0.139097 -0.055353 -0.059752  378.66      0  \n",
       "3 -0.221929  0.062723  0.061458  123.50      0  \n",
       "4  0.502292  0.219422  0.215153   69.99      0  \n",
       "\n",
       "[5 rows x 31 columns]"
      ]
     },
     "execution_count": 3,
     "metadata": {},
     "output_type": "execute_result"
    }
   ],
   "source": [
    "credit_card_df.head(5)"
   ]
  },
  {
   "cell_type": "code",
   "execution_count": 4,
   "metadata": {},
   "outputs": [
    {
     "data": {
      "text/plain": [
       "(284807, 31)"
      ]
     },
     "execution_count": 4,
     "metadata": {},
     "output_type": "execute_result"
    }
   ],
   "source": [
    "credit_card_df.shape"
   ]
  },
  {
   "cell_type": "code",
   "execution_count": 5,
   "metadata": {},
   "outputs": [
    {
     "data": {
      "text/plain": [
       "array([dtype('float64'), dtype('int64')], dtype=object)"
      ]
     },
     "execution_count": 5,
     "metadata": {},
     "output_type": "execute_result"
    }
   ],
   "source": [
    "credit_card_df.dtypes.unique()"
   ]
  },
  {
   "cell_type": "code",
   "execution_count": 6,
   "metadata": {
    "pycharm": {
     "name": "#%%\n"
    }
   },
   "outputs": [
    {
     "name": "stdout",
     "output_type": "stream",
     "text": [
      "<class 'pandas.core.frame.DataFrame'>\n",
      "RangeIndex: 284807 entries, 0 to 284806\n",
      "Data columns (total 31 columns):\n",
      " #   Column  Non-Null Count   Dtype  \n",
      "---  ------  --------------   -----  \n",
      " 0   Time    284807 non-null  float64\n",
      " 1   V1      284807 non-null  float64\n",
      " 2   V2      284807 non-null  float64\n",
      " 3   V3      284807 non-null  float64\n",
      " 4   V4      284807 non-null  float64\n",
      " 5   V5      284807 non-null  float64\n",
      " 6   V6      284807 non-null  float64\n",
      " 7   V7      284807 non-null  float64\n",
      " 8   V8      284807 non-null  float64\n",
      " 9   V9      284807 non-null  float64\n",
      " 10  V10     284807 non-null  float64\n",
      " 11  V11     284807 non-null  float64\n",
      " 12  V12     284807 non-null  float64\n",
      " 13  V13     284807 non-null  float64\n",
      " 14  V14     284807 non-null  float64\n",
      " 15  V15     284807 non-null  float64\n",
      " 16  V16     284807 non-null  float64\n",
      " 17  V17     284807 non-null  float64\n",
      " 18  V18     284807 non-null  float64\n",
      " 19  V19     284807 non-null  float64\n",
      " 20  V20     284807 non-null  float64\n",
      " 21  V21     284807 non-null  float64\n",
      " 22  V22     284807 non-null  float64\n",
      " 23  V23     284807 non-null  float64\n",
      " 24  V24     284807 non-null  float64\n",
      " 25  V25     284807 non-null  float64\n",
      " 26  V26     284807 non-null  float64\n",
      " 27  V27     284807 non-null  float64\n",
      " 28  V28     284807 non-null  float64\n",
      " 29  Amount  284807 non-null  float64\n",
      " 30  Class   284807 non-null  int64  \n",
      "dtypes: float64(30), int64(1)\n",
      "memory usage: 67.4 MB\n"
     ]
    },
    {
     "data": {
      "text/plain": [
       "None"
      ]
     },
     "metadata": {},
     "output_type": "display_data"
    },
    {
     "name": "stdout",
     "output_type": "stream",
     "text": [
      "Number of null values: 0\n"
     ]
    }
   ],
   "source": [
    "display(credit_card_df.info())\n",
    "print('Number of null values:', credit_card_df.isna().sum().sum())"
   ]
  },
  {
   "cell_type": "code",
   "execution_count": 7,
   "metadata": {},
   "outputs": [
    {
     "data": {
      "text/plain": [
       "count    284807.000000\n",
       "mean         88.349619\n",
       "std         250.120109\n",
       "min           0.000000\n",
       "25%           5.600000\n",
       "50%          22.000000\n",
       "75%          77.165000\n",
       "max       25691.160000\n",
       "Name: Amount, dtype: float64"
      ]
     },
     "execution_count": 7,
     "metadata": {},
     "output_type": "execute_result"
    }
   ],
   "source": [
    "credit_card_df.Amount.describe()"
   ]
  },
  {
   "cell_type": "code",
   "execution_count": 8,
   "metadata": {
    "pycharm": {
     "name": "#%%\n"
    }
   },
   "outputs": [
    {
     "data": {
      "text/plain": [
       "V17    0.326481\n",
       "V14    0.302544\n",
       "V12    0.260593\n",
       "V10    0.216883\n",
       "V16    0.196539\n",
       "dtype: float64"
      ]
     },
     "execution_count": 8,
     "metadata": {},
     "output_type": "execute_result"
    }
   ],
   "source": [
    "correlation = []\n",
    "for column in credit_card_df.drop('Class', axis=1):\n",
    "    corr = np.corrcoef(credit_card_df['Class'], credit_card_df[column])\n",
    "    correlation.append(pd.Series({column: np.abs(corr[0, 1])}))\n",
    "\n",
    "pd.concat(correlation).apply(np.abs).sort_values(ascending=False).head(5)"
   ]
  },
  {
   "cell_type": "code",
   "execution_count": 9,
   "metadata": {
    "pycharm": {
     "name": "#%%\n"
    }
   },
   "outputs": [],
   "source": [
    "y = credit_card_df['Class']\n",
    "X = credit_card_df.drop(y.name, axis=1)"
   ]
  },
  {
   "cell_type": "code",
   "execution_count": 10,
   "metadata": {},
   "outputs": [
    {
     "data": {
      "text/plain": [
       "V17       0.326481\n",
       "V14       0.302544\n",
       "V12       0.260593\n",
       "V10       0.216883\n",
       "V16       0.196539\n",
       "V3        0.192961\n",
       "V7        0.187257\n",
       "V11       0.154876\n",
       "V4        0.133447\n",
       "V18       0.111485\n",
       "V1        0.101347\n",
       "V9        0.097733\n",
       "V5        0.094974\n",
       "V2        0.091289\n",
       "V6        0.043643\n",
       "V21       0.040413\n",
       "V19       0.034783\n",
       "V20       0.020090\n",
       "V8        0.019875\n",
       "V27       0.017580\n",
       "Time      0.012323\n",
       "V28       0.009536\n",
       "V24       0.007221\n",
       "Amount    0.005632\n",
       "V13       0.004570\n",
       "V26       0.004455\n",
       "V15       0.004223\n",
       "V25       0.003308\n",
       "V23       0.002685\n",
       "V22       0.000805\n",
       "dtype: float64"
      ]
     },
     "execution_count": 10,
     "metadata": {},
     "output_type": "execute_result"
    }
   ],
   "source": [
    "corr = []\n",
    "for column in X.columns:\n",
    "    corr.append(pd.Series({column: np.abs(np.corrcoef(X[column], y)[0, 1])}))\n",
    "\n",
    "corr = pd.concat(corr).sort_values(ascending=False)\n",
    "corr"
   ]
  },
  {
   "cell_type": "code",
   "execution_count": 11,
   "metadata": {},
   "outputs": [
    {
     "data": {
      "text/plain": [
       "0    0.998273\n",
       "1    0.001727\n",
       "Name: Class, dtype: float64"
      ]
     },
     "execution_count": 11,
     "metadata": {},
     "output_type": "execute_result"
    }
   ],
   "source": [
    "y.value_counts(normalize=True)"
   ]
  },
  {
   "cell_type": "code",
   "execution_count": 12,
   "metadata": {
    "pycharm": {
     "name": "#%%\n"
    }
   },
   "outputs": [
    {
     "data": {
      "image/png": "[encoded data removed]",
      "text/plain": [
       "<Figure size 777.6x504 with 6 Axes>"
      ]
     },
     "metadata": {
      "needs_background": "light"
     },
     "output_type": "display_data"
    }
   ],
   "source": [
    "fig, (ax1, ax2) = plt.subplots(2, 3, figsize=[10.8, 7])\n",
    "\n",
    "def plot_skew(X, ax):\n",
    "    X_skew = X.skew().apply(np.abs).sort_values(ascending=False)\n",
    "    columns = X_skew.head(3).index\n",
    "    for ax, column in zip(ax, columns):\n",
    "        ax.hist(X_skew[column])\n",
    "        ax.set_title('{} - skew: {:.2f}'.format(column, X_skew[column]))\n",
    "        plt.tight_layout()\n",
    "\n",
    "X_skew = X.skew().apply(np.abs).sort_values(ascending=False)\n",
    "norm_col = X_skew[X_skew>0.75].index\n",
    "\n",
    "plot_skew(X, ax1)\n",
    "\n",
    "X_cbrt = X[norm_col].apply(np.cbrt)\n",
    "\n",
    "plot_skew(X_cbrt, ax2)"
   ]
  },
  {
   "cell_type": "code",
   "execution_count": 13,
   "metadata": {
    "pycharm": {
     "name": "#%%\n"
    }
   },
   "outputs": [
    {
     "name": "stdout",
     "output_type": "stream",
     "text": [
      "Shape of the DataFrame: (284807, 18)\n",
      "----------\n"
     ]
    },
    {
     "data": {
      "text/html": [
       "<div>\n",
       "<style scoped>\n",
       "    .dataframe tbody tr th:only-of-type {\n",
       "        vertical-align: middle;\n",
       "    }\n",
       "\n",
       "    .dataframe tbody tr th {\n",
       "        vertical-align: top;\n",
       "    }\n",
       "\n",
       "    .dataframe thead th {\n",
       "        text-align: right;\n",
       "    }\n",
       "</style>\n",
       "<table border=\"1\" class=\"dataframe\">\n",
       "  <thead>\n",
       "    <tr style=\"text-align: right;\">\n",
       "      <th></th>\n",
       "      <th>Amount</th>\n",
       "      <th>V28</th>\n",
       "      <th>V8</th>\n",
       "      <th>V23</th>\n",
       "      <th>V2</th>\n",
       "      <th>V17</th>\n",
       "      <th>V21</th>\n",
       "      <th>V1</th>\n",
       "      <th>V7</th>\n",
       "      <th>V5</th>\n",
       "      <th>V12</th>\n",
       "      <th>V3</th>\n",
       "      <th>V20</th>\n",
       "      <th>V14</th>\n",
       "      <th>V6</th>\n",
       "      <th>V10</th>\n",
       "      <th>V27</th>\n",
       "      <th>V16</th>\n",
       "    </tr>\n",
       "  </thead>\n",
       "  <tbody>\n",
       "    <tr>\n",
       "      <th>0</th>\n",
       "      <td>5.308802</td>\n",
       "      <td>-0.276125</td>\n",
       "      <td>0.462135</td>\n",
       "      <td>-0.479829</td>\n",
       "      <td>-0.417516</td>\n",
       "      <td>0.592472</td>\n",
       "      <td>-0.263555</td>\n",
       "      <td>-1.107879</td>\n",
       "      <td>0.621100</td>\n",
       "      <td>-0.696802</td>\n",
       "      <td>-0.851693</td>\n",
       "      <td>1.363755</td>\n",
       "      <td>0.631144</td>\n",
       "      <td>-0.677640</td>\n",
       "      <td>0.773278</td>\n",
       "      <td>0.449455</td>\n",
       "      <td>0.511160</td>\n",
       "      <td>-0.777719</td>\n",
       "    </tr>\n",
       "    <tr>\n",
       "      <th>1</th>\n",
       "      <td>1.390755</td>\n",
       "      <td>0.245100</td>\n",
       "      <td>0.439858</td>\n",
       "      <td>0.466143</td>\n",
       "      <td>0.643244</td>\n",
       "      <td>-0.486019</td>\n",
       "      <td>-0.608918</td>\n",
       "      <td>1.060249</td>\n",
       "      <td>-0.428727</td>\n",
       "      <td>0.391525</td>\n",
       "      <td>1.021289</td>\n",
       "      <td>0.550116</td>\n",
       "      <td>-0.410321</td>\n",
       "      <td>-0.523872</td>\n",
       "      <td>-0.435084</td>\n",
       "      <td>-0.550660</td>\n",
       "      <td>-0.207878</td>\n",
       "      <td>0.774129</td>\n",
       "    </tr>\n",
       "    <tr>\n",
       "      <th>2</th>\n",
       "      <td>7.234633</td>\n",
       "      <td>-0.390946</td>\n",
       "      <td>0.628002</td>\n",
       "      <td>0.968843</td>\n",
       "      <td>-1.102518</td>\n",
       "      <td>1.035389</td>\n",
       "      <td>0.628275</td>\n",
       "      <td>-1.107485</td>\n",
       "      <td>0.925003</td>\n",
       "      <td>-0.795389</td>\n",
       "      <td>0.404295</td>\n",
       "      <td>1.210375</td>\n",
       "      <td>0.806704</td>\n",
       "      <td>-0.549527</td>\n",
       "      <td>1.216553</td>\n",
       "      <td>0.592160</td>\n",
       "      <td>-0.381107</td>\n",
       "      <td>-1.424416</td>\n",
       "    </tr>\n",
       "    <tr>\n",
       "      <th>3</th>\n",
       "      <td>4.979919</td>\n",
       "      <td>0.394632</td>\n",
       "      <td>0.722683</td>\n",
       "      <td>-0.575213</td>\n",
       "      <td>-0.570034</td>\n",
       "      <td>-0.881127</td>\n",
       "      <td>-0.476662</td>\n",
       "      <td>-0.988628</td>\n",
       "      <td>0.619376</td>\n",
       "      <td>-0.217639</td>\n",
       "      <td>0.562763</td>\n",
       "      <td>1.214860</td>\n",
       "      <td>-0.592535</td>\n",
       "      <td>-0.660327</td>\n",
       "      <td>1.076413</td>\n",
       "      <td>-0.380184</td>\n",
       "      <td>0.397321</td>\n",
       "      <td>-1.019500</td>\n",
       "    </tr>\n",
       "    <tr>\n",
       "      <th>4</th>\n",
       "      <td>4.121089</td>\n",
       "      <td>0.599215</td>\n",
       "      <td>-0.646755</td>\n",
       "      <td>-0.516088</td>\n",
       "      <td>0.957462</td>\n",
       "      <td>-0.618875</td>\n",
       "      <td>-0.211275</td>\n",
       "      <td>-1.050184</td>\n",
       "      <td>0.840112</td>\n",
       "      <td>-0.741197</td>\n",
       "      <td>0.813417</td>\n",
       "      <td>1.156975</td>\n",
       "      <td>0.742014</td>\n",
       "      <td>-1.038397</td>\n",
       "      <td>0.457761</td>\n",
       "      <td>0.909800</td>\n",
       "      <td>0.603152</td>\n",
       "      <td>-0.767131</td>\n",
       "    </tr>\n",
       "  </tbody>\n",
       "</table>\n",
       "</div>"
      ],
      "text/plain": [
       "     Amount       V28        V8       V23        V2       V17       V21  \\\n",
       "0  5.308802 -0.276125  0.462135 -0.479829 -0.417516  0.592472 -0.263555   \n",
       "1  1.390755  0.245100  0.439858  0.466143  0.643244 -0.486019 -0.608918   \n",
       "2  7.234633 -0.390946  0.628002  0.968843 -1.102518  1.035389  0.628275   \n",
       "3  4.979919  0.394632  0.722683 -0.575213 -0.570034 -0.881127 -0.476662   \n",
       "4  4.121089  0.599215 -0.646755 -0.516088  0.957462 -0.618875 -0.211275   \n",
       "\n",
       "         V1        V7        V5       V12        V3       V20       V14  \\\n",
       "0 -1.107879  0.621100 -0.696802 -0.851693  1.363755  0.631144 -0.677640   \n",
       "1  1.060249 -0.428727  0.391525  1.021289  0.550116 -0.410321 -0.523872   \n",
       "2 -1.107485  0.925003 -0.795389  0.404295  1.210375  0.806704 -0.549527   \n",
       "3 -0.988628  0.619376 -0.217639  0.562763  1.214860 -0.592535 -0.660327   \n",
       "4 -1.050184  0.840112 -0.741197  0.813417  1.156975  0.742014 -1.038397   \n",
       "\n",
       "         V6       V10       V27       V16  \n",
       "0  0.773278  0.449455  0.511160 -0.777719  \n",
       "1 -0.435084 -0.550660 -0.207878  0.774129  \n",
       "2  1.216553  0.592160 -0.381107 -1.424416  \n",
       "3  1.076413 -0.380184  0.397321 -1.019500  \n",
       "4  0.457761  0.909800  0.603152 -0.767131  "
      ]
     },
     "execution_count": 13,
     "metadata": {},
     "output_type": "execute_result"
    }
   ],
   "source": [
    "print('Shape of the DataFrame:', X_cbrt.shape)\n",
    "print('-'*10)\n",
    "X_cbrt.head()"
   ]
  },
  {
   "cell_type": "code",
   "execution_count": 14,
   "metadata": {
    "pycharm": {
     "name": "#%%\n"
    }
   },
   "outputs": [],
   "source": [
    "# from imblearn.over_sampling import SMOTE\n",
    "# from sklearn.utils import resample\n",
    "from imblearn.under_sampling import RandomUnderSampler\n",
    "\n",
    "# X_smote, y_smote = SMOTE(n_jobs=-1).fit_resample(X_cbrt, y)\n",
    "# X_resample, y_resample = resample(X_smote, y_smote, n_samples=2000)\n",
    "# Counter(y_resample)\n",
    "\n",
    "X_resample, y_resample = RandomUnderSampler().fit_resample(X, y)"
   ]
  },
  {
   "cell_type": "code",
   "execution_count": 15,
   "metadata": {},
   "outputs": [],
   "source": [
    "# aX_resample.append(y_resample)\n",
    "# credit_card_df.groupby('Class').mean(), "
   ]
  },
  {
   "cell_type": "code",
   "execution_count": 16,
   "metadata": {
    "pycharm": {
     "name": "#%%\n"
    }
   },
   "outputs": [
    {
     "name": "stdout",
     "output_type": "stream",
     "text": [
      "New shape of the DataFrame: (984, 30)\n",
      "----------\n",
      "New class distribution:\n",
      "0    0.5\n",
      "1    0.5\n",
      "Name: Class, dtype: float64\n",
      "----------\n"
     ]
    }
   ],
   "source": [
    "print('New shape of the DataFrame:', X_resample.shape)\n",
    "print('-'*10)\n",
    "print('New class distribution:')\n",
    "print(y_resample.value_counts(normalize=True))\n",
    "print('-'*10)"
   ]
  },
  {
   "cell_type": "code",
   "execution_count": 17,
   "metadata": {
    "pycharm": {
     "name": "#%%\n"
    }
   },
   "outputs": [],
   "source": [
    "from sklearn.model_selection import train_test_split\n",
    "from sklearn.preprocessing import StandardScaler\n",
    "\n",
    "X_train, X_test, y_train, y_test = train_test_split(X_resample, y_resample)\n",
    "\n",
    "scaler = StandardScaler()\n",
    "X_train = scaler.fit_transform(X_train)\n",
    "X_test = scaler.transform(X_test)"
   ]
  },
  {
   "cell_type": "code",
   "execution_count": 18,
   "metadata": {
    "pycharm": {
     "name": "#%%\n"
    }
   },
   "outputs": [
    {
     "data": {
      "text/plain": [
       "Text(0, 0.5, 'Inertia')"
      ]
     },
     "execution_count": 18,
     "metadata": {},
     "output_type": "execute_result"
    },
    {
     "data": {
      "image/png": "[encoded data removed]",
      "text/plain": [
       "<Figure size 432x288 with 1 Axes>"
      ]
     },
     "metadata": {
      "needs_background": "light"
     },
     "output_type": "display_data"
    }
   ],
   "source": [
    "from sklearn.cluster import KMeans\n",
    "\n",
    "inertia = []\n",
    "clusters = np.arange(1, 20)\n",
    "for cluster in clusters:\n",
    "    kmeans = KMeans(n_clusters=cluster)\n",
    "    kmeans.fit(X_train)\n",
    "    inertia.append(kmeans.inertia_)\n",
    "\n",
    "plt.plot(clusters, inertia)\n",
    "plt.scatter(clusters, inertia)\n",
    "plt.xticks(np.arange(clusters.min(), cluster.max()+1))\n",
    "plt.xlabel('Number of Clusters')\n",
    "plt.ylabel('Inertia')"
   ]
  },
  {
   "cell_type": "code",
   "execution_count": 19,
   "metadata": {
    "pycharm": {
     "name": "#%%\n"
    }
   },
   "outputs": [],
   "source": [
    "kmeans = KMeans(n_clusters=3)\n",
    "X_resample = pd.concat([\n",
    "    X_resample, pd.get_dummies(pd.Series(kmeans.fit_predict(X_resample)), prefix='kmeans_cluster')\n",
    "], axis=1)"
   ]
  },
  {
   "cell_type": "code",
   "execution_count": 20,
   "metadata": {
    "pycharm": {
     "name": "#%%\n"
    }
   },
   "outputs": [
    {
     "name": "stdout",
     "output_type": "stream",
     "text": [
      "LogisticRegression(random_state=42) F1 score for Fraud: 92%\n",
      "RandomForestClassifier(random_state=42) F1 score for Fraud: 92%\n",
      "BaggingClassifier(random_state=42) F1 score for Fraud: 93%\n",
      "ExtraTreesClassifier(random_state=42) F1 score for Fraud: 92%\n",
      "GradientBoostingClassifier(random_state=42) F1 score for Fraud: 94%\n",
      "AdaBoostClassifier(random_state=42) F1 score for Fraud: 92%\n",
      "SVC(random_state=42) F1 score for Fraud: 64%\n"
     ]
    },
    {
     "data": {
      "image/png": "[encoded data removed]",
      "text/plain": [
       "<Figure size 432x288 with 1 Axes>"
      ]
     },
     "metadata": {
      "needs_background": "light"
     },
     "output_type": "display_data"
    }
   ],
   "source": [
    "from sklearn.linear_model import LogisticRegression\n",
    "from sklearn.ensemble import RandomForestClassifier, BaggingClassifier, ExtraTreesClassifier, GradientBoostingClassifier, AdaBoostClassifier\n",
    "from sklearn.svm import SVC\n",
    "from sklearn.metrics import roc_auc_score, classification_report, f1_score, plot_roc_curve\n",
    "\n",
    "X_train, X_test, y_train, y_test = train_test_split(X_resample, y_resample)\n",
    "\n",
    "models = [LogisticRegression(max_iter=100), RandomForestClassifier(), BaggingClassifier(), ExtraTreesClassifier(), GradientBoostingClassifier(), AdaBoostClassifier(), SVC()]\n",
    "fig, ax = plt.subplots(1, 1)\n",
    "for model in models:\n",
    "    model.set_params(**{'random_state': 42})\n",
    "    model.fit(X_train, y_train)\n",
    "    print('{} F1 score for Fraud: {:.0%}'.format(model, f1_score(model.predict(X_test), y_test, pos_label=1)))\n",
    "    plot_roc_curve(model, X_test, y_test, ax=ax)\n",
    "    "
   ]
  },
  {
   "cell_type": "code",
   "execution_count": 21,
   "metadata": {
    "pycharm": {
     "name": "#%%\n"
    }
   },
   "outputs": [
    {
     "name": "stdout",
     "output_type": "stream",
     "text": [
      "{'max_depth': 10, 'n_estimators': 1000}\n",
      "----------\n",
      "default scoring: 93%\n",
      "----------\n",
      "              precision    recall  f1-score   support\n",
      "\n",
      "           0       0.97      0.88      0.92       125\n",
      "           1       0.89      0.98      0.93       121\n",
      "\n",
      "    accuracy                           0.93       246\n",
      "   macro avg       0.93      0.93      0.93       246\n",
      "weighted avg       0.93      0.93      0.93       246\n",
      "\n"
     ]
    }
   ],
   "source": [
    "from sklearn.metrics import make_scorer\n",
    "from sklearn.model_selection import GridSearchCV\n",
    "\n",
    "scaler = StandardScaler()\n",
    "X_train = scaler.fit_transform(X_train)\n",
    "X_test = scaler.transform(X_test)\n",
    "\n",
    "################################\n",
    "# RandomForestClassifier or ExtraTreesClassifier\n",
    "in_model = RandomForestClassifier(n_jobs=-1)\n",
    "params = {'n_estimators': [10, 100, 1000],\n",
    "          'max_depth': [1, 10, 100]}\n",
    "################################\n",
    "# LogisticRegression\n",
    "# in_model = LogisticRegression(n_jobs=-1, random_state=42)\n",
    "# params = {'max_iter': [100, 500, 1000],\n",
    "#           'C': [0.001, 0.01, 0.1, 1],\n",
    "#          'solver': ['sag', 'saga']}\n",
    "\n",
    "model = GridSearchCV(in_model, param_grid=params, scoring='f1', n_jobs=-1)\n",
    "model.fit(X_train, y_train)\n",
    "\n",
    "grid_best_params = model.best_params_\n",
    "print(model.best_params_)\n",
    "print('-'*10)\n",
    "print('default scoring: {:.0%}'.format(model.score(X_test, y_test)))\n",
    "print('-'*10)\n",
    "y_pred = model.predict(X_test)\n",
    "print(classification_report(y_pred, y_test))"
   ]
  },
  {
   "cell_type": "code",
   "execution_count": 22,
   "metadata": {
    "pycharm": {
     "is_executing": true,
     "name": "#%%\n"
    },
    "scrolled": true
   },
   "outputs": [
    {
     "name": "stdout",
     "output_type": "stream",
     "text": [
      "default scoring: 100%\n",
      "----------\n",
      "              precision    recall  f1-score   support\n",
      "\n",
      "           0       1.00      1.00      1.00     71097\n",
      "           1       0.76      0.93      0.84       105\n",
      "\n",
      "    accuracy                           1.00     71202\n",
      "   macro avg       0.88      0.97      0.92     71202\n",
      "weighted avg       1.00      1.00      1.00     71202\n",
      "\n"
     ]
    }
   ],
   "source": [
    "kmeans = KMeans(n_clusters=3)\n",
    "X = pd.concat([\n",
    "    X, pd.get_dummies(pd.Series(kmeans.fit_predict(X)), prefix='kmeans_cluster')\n",
    "], axis=1)\n",
    "\n",
    "X_train, X_test, y_train, y_test = train_test_split(X, y)\n",
    "\n",
    "scaler = StandardScaler()\n",
    "X_train = scaler.fit_transform(X_train)\n",
    "X_test = scaler.transform(X_test)\n",
    "\n",
    "model = in_model.set_params(**grid_best_params)\n",
    "model.fit(X_train, y_train)\n",
    "\n",
    "print('default scoring: {:.0%}'.format(model.score(X_test, y_test)))\n",
    "print('-'*10)\n",
    "y_pred = model.predict(X_test)\n",
    "print(classification_report(y_pred, y_test))"
   ]
  },
  {
   "cell_type": "markdown",
   "metadata": {
    "pycharm": {
     "name": "#%% md\n"
    }
   },
   "source": [
    "GradientBoostingClassifier {'learning_rate': 0.3, 'max_depth': 1, 'n_estimators': 90} = 0.76\n",
    "\n",
    "LogisticRegression {'C': 0.1, 'max_iter': 100} = 0.76\n",
    "\n",
    "RandomForestClassifier {'max_depth': 100, 'n_estimators': 100} = 0.86\n",
    "\n",
    "ExtraTreesClassifier {'max_depth': 100, 'n_estimators': 100} = 0.83\n",
    "\n"
   ]
  }
 ],
 "metadata": {
  "interpreter": {
   "hash": "a4c7ec7275d342f52bce6c52262ac75bf8c9a961afd06c0fa8b1b98b68e67065"
  },
  "kernelspec": {
   "display_name": "Python 3",
   "language": "python",
   "name": "python3"
  },
  "language_info": {
   "codemirror_mode": {
    "name": "ipython",
    "version": 3
   },
   "file_extension": ".py",
   "mimetype": "text/x-python",
   "name": "python",
   "nbconvert_exporter": "python",
   "pygments_lexer": "ipython3",
   "version": "3.8.2"
  }
 },
 "nbformat": 4,
 "nbformat_minor": 2
}
